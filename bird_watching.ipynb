{
 "cells": [
  {
   "cell_type": "markdown",
   "metadata": {},
   "source": [
    "#### Table of Contents\n",
    "1. [Introduction](#birds-around-my-area-🕊)\n",
    "2. [Constructing the data pipeline](#constructing-the-data-pipeline)"
   ]
  },
  {
   "cell_type": "markdown",
   "metadata": {},
   "source": [
    "# Birds Around My Area 🕊\n",
    "This notebook is an exploratory analysis on bird data provided by Cornell's public eBird API. \n",
    "\n",
    "The following steps are taken to construct the data pipeline:\n",
    "1. list\n",
    "2. the steps\n",
    "3. here\n",
    "4. until done\n",
    "\n",
    "Pandas and matplotlib are used to further aid in data visualization."
   ]
  },
  {
   "cell_type": "markdown",
   "metadata": {},
   "source": [
    "## Constructing the data pipeline"
   ]
  },
  {
   "cell_type": "markdown",
   "metadata": {},
   "source": [
    "### 1. Connect to the government municpal census data to obtain region codes.\n",
    "We'll be looking at bird data from the Angeles National Forest.\n",
    "\n",
    "Note: function "
   ]
  },
  {
   "cell_type": "code",
   "execution_count": 5,
   "metadata": {},
   "outputs": [
    {
     "name": "stdout",
     "output_type": "stream",
     "text": [
      "<class 'float'>\n"
     ]
    }
   ],
   "source": [
    "import requests\n",
    "import json\n",
    "from geopy import geocoders\n",
    "\n",
    "def getLatLong(location):\n",
    "    \"\"\"Fetches latitude and longitude of an area.\n",
    "    \n",
    "    Args:\n",
    "        location (str): The location\n",
    "    Returns:\n",
    "        tuple: A tuple (lat, long) of the location\n",
    "        \n",
    "    \"\"\"\n",
    "    geolocator = geocoders.Nominatim(user_agent=\"Geo Locate\")\n",
    "    location = geolocator.geocode(location)\n",
    "    \n",
    "    return ((location.latitude, location.longitude))\n",
    "    \n",
    "\n",
    "def getRegionCode(lat, long):\n",
    "    \"\"\"Fetches eBird regionCode using municipal census API\n",
    "    \n",
    "    Args:\n",
    "        lat (float): latitude\n",
    "        long (float): longitude \n",
    "    Returns: \n",
    "        str: regionCode\n",
    "    \n",
    "    \"\"\"\n",
    "    \n",
    "    # Municipal API that is publicly available.\n",
    "    censusUrl = str('https://geo.fcc.gov/api/census/area?lat=' + \n",
    "                    str(lat) +\n",
    "                    '&lon=' +\n",
    "                    str(long) +\n",
    "                    '&format=json')\n",
    "    \n",
    "    # Sending out a GET request\n",
    "    get = requests.request('GET', censusUrl, data={})\n",
    "    \n",
    "    # Parse the response. All API values are contained in the 'results' list\n",
    "    response = json.loads(get.content)['results'][0]\n",
    "    \n",
    "    # regionCode is made up of \n",
    "    \n",
    "lat_long = getLatLong('Angeles National Forest Los Angeles')"
   ]
  },
  {
   "cell_type": "markdown",
   "metadata": {},
   "source": [
    "### Connecting to the eBird API to get bird data in JSON format\n",
    "Note: Python wrapper [ebird-api](https://pypi.org/project/ebird-api/) must be downloaded.\n",
    "\n",
    "Equipped with our `regionCode`, we can now search for bird data by region."
   ]
  },
  {
   "cell_type": "code",
   "execution_count": null,
   "metadata": {},
   "outputs": [],
   "source": [
    "import requests\n",
    "import json\n"
   ]
  },
  {
   "cell_type": "code",
   "execution_count": null,
   "metadata": {},
   "outputs": [],
   "source": []
  }
 ],
 "metadata": {
  "kernelspec": {
   "display_name": "Python 3.9.12 64-bit",
   "language": "python",
   "name": "python3"
  },
  "language_info": {
   "codemirror_mode": {
    "name": "ipython",
    "version": 3
   },
   "file_extension": ".py",
   "mimetype": "text/x-python",
   "name": "python",
   "nbconvert_exporter": "python",
   "pygments_lexer": "ipython3",
   "version": "3.9.12"
  },
  "orig_nbformat": 4,
  "vscode": {
   "interpreter": {
    "hash": "b0fa6594d8f4cbf19f97940f81e996739fb7646882a419484c72d19e05852a7e"
   }
  }
 },
 "nbformat": 4,
 "nbformat_minor": 2
}
